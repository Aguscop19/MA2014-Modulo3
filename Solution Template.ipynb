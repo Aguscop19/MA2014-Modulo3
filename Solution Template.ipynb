{
 "cells": [
  {
   "cell_type": "markdown",
   "metadata": {},
   "source": [
    "# Solution Template\n",
    "\n",
    "Use this notebook as a guide to implement your solution. Keep in mind that some cells should remain as they are so that you code works properly, for instance, the following cell in which the required libraries are imported."
   ]
  },
  {
   "cell_type": "code",
   "execution_count": 218,
   "metadata": {},
   "outputs": [],
   "source": [
    "import numpy as np\n",
    "from scipy.spatial.distance import hamming\n",
    "import seaborn as sns\n",
    "# Add more libraries in case you need them in this cell."
   ]
  },
  {
   "cell_type": "markdown",
   "metadata": {},
   "source": [
    "# Localization\n",
    "\n",
    "Hidden Markov Models (HMM) are used in a wide variety of applications such as speech recognition, part-of-speech tagging, machine traslation, handwriting recognition and many more. In this section we will see how HMM can be employed to infer the position of a robot in a static enviroment.\n",
    "\n",
    "Let us represent the enviroment in which the robot roams around by a grid. Each square of the grid is either free or occupied, in which case we are talking about a position that the robot can not visit. Let $X_k$ be the position of the robot at time $t_k$. Given the latter, all the possible states of $X_k$ are the free spots of the grid: $S\\{s_1,s_2,\\dots,s_n\\}$, where $n$ is the number of free squares. Speaking of \"free squares,\" suppose we do not know where the robot is, so $P(X_0)=1/n$, $\\forall s_i\\in S$. Also, let $\\text{neighnors}(s)$ be the set of empty squares adjacent to $s$ and let $N(s)$ be the size of this set. Then, the transition model of a robot that moves to any adjacent and empty square with equal probability is given by\n",
    "\n",
    "$$\n",
    "P(X_{k+1}=s_j|X_k=s_i)=T_{ij}=\n",
    "\\begin{cases}\n",
    "\\frac{1}{N(s_i)}~, & s_j\\in \\text{neighbors}(s_i)\\\\\n",
    "0, & s_j\\notin \\text{neighbors}(s_i)\n",
    "\\end{cases}\n",
    "$$\n",
    "\n",
    "As it was mentioned, the robot will try to know where it is located given a set of observations. In this case, the robot is equipped with four sensors that indicate if there is an obstacle or not in a particular direction. We will assume all the possible directions are North (N), East (E), West (W) and South (S). Further, there is a sensor error rate $\\epsilon$ and errors occur independently in the four sensor directions. For instance, the probability of getting all four measurements right is $(1-\\epsilon)^4$, the probability of getting them all wrong is $\\epsilon^4$. Given this, we have that there are 16 possible measurements for $E_k$ at a given time $t_k$. Also, let $d_{ik}$ be the discrepancy: the number of bits that are different from the true bits for the square $s_i$. Then, the probability that a robot in square $s_i$ would get a reading $e_k$ is equal to\n",
    "\n",
    "$$\n",
    "P(E_k=e_k|X_k=s_i)=O_{e_k,ii}=(1-\\epsilon)^{4-d_{~ik}}~\\epsilon^{~d_{~ik}}.\n",
    "$$\n",
    "\n",
    "For instance, the probability that a square with obstacles to the North and South would produce a reading (N,S,E) is equal to $(1-\\epsilon)^3~\\epsilon$.\n",
    "\n",
    "Now that we know how to define the transition and sensor models we can carry out different types of inference: we can estimate a location given a set of measurements doing filtering; we can use smoothing to infer a past location given some observations; or we can use the Viterbi algorithm and obtain the most likely path that the robot took and that produced a given set of sensor values.\n",
    "\n",
    "<img src=\"robot.png\" alt=\"Drawing\" style=\"width: 700px;\"/>\n",
    "\n",
    "Your mission is to carry out these three types of inference. In particular, for both filtering and smoothing, instead of using something like the figures shown above, use heatmaps in which the color changes depending on the probability of finding the robot at a certain square given a set of measurements. For the most likely path highlight the squares associated to said path. Keep in mind that you will have to simulate the random behavior of the sensors. "
   ]
  },
  {
   "cell_type": "markdown",
   "metadata": {},
   "source": [
    "## Transition Model\n",
    "\n",
    "Let us define some matrices. Say we have $k$ possible states: $S=\\{s_1,s_2\\dots,s_k\\}$. Then, the **transition matrix** is a $k\\times k$ matrix in which $T_{ij} = P(X_{k+1}=s_j|X_{k}=s_i)$. In this case, each state is a position that can be occupied by the robot, or in other words, a free cell. Notice that in the map there are a total of 42 free cells, which means that the system has 42 possible states. The latter implies that the transitions matrix is a $42\\times42$ matrix.\n",
    "\n",
    "Use the following cell to write a code that computes the transition matrix. You might need more than one cell to do this in an organized fashion, so feel free to add as many cells as you want.\n",
    "\n",
    "<img src=\"/workspaces/MA2014-Modulo3/robot-casillas-numeradas.png\" alt=\"Mapa Robot\" style=\"width: 700px;\"/>"
   ]
  },
  {
   "cell_type": "code",
   "execution_count": 219,
   "metadata": {},
   "outputs": [],
   "source": [
    "\"INSERT YOUR CODE HERE\"\n",
    "#Matriz de estados iniciales 1x42, donde todos son 1/42\n",
    "X0 = np.ones((42,1))/42\n",
    "#crear una matriz de ceros de 42x42\n",
    "T = np.zeros((42,42))\n",
    "T[0,1] = 1\n",
    "T[1,0] = 1/2; T[1,13] = 1/2\n",
    "T[2,3] = 1/2; T[2,15] = 1/2\n",
    "T[3,2] = 1/2; T[3,4] = 1/2\n",
    "T[4,3] = 1/2; T[4,16] = 1/2\n",
    "T[5,6] = 1\n",
    "T[6,5] = 1/3; T[6,7] = 1/3; T[6,17] = 1/3\n",
    "T[7,6] = 1/3; T[7,8] = 1/3; T[7,18] = 1/3\n",
    "T[8,7] = 1/2; T[8,19] = 1/2\n",
    "T[9,21] = 1/2; T[9,8] = 1/2\n",
    "T[10,9] = 1/2; T[10,11] = 1/2\n",
    "T[11,10] = 1/2; T[11,12] = 1/2\n",
    "T[12,11] = 1/2; T[12,22] = 1/2\n",
    "T[13,1] = 1/2; T[13,14] = 1/2\n",
    "T[14,13] = 1/3; T[14,15] = 1/3; T[14,23] = 1/3\n",
    "T[15,2] = 1/3; T[15,14] = 1/3; T[15,24] = 1/3\n",
    "T[16,4] = 1/2; T[16,25] = 1/2\n",
    "T[17,6] = 1/3; T[17,18] = 1/3; T[17,26] = 1/3\n",
    "T[18,7] = 1/3; T[18,17] = 1/3; T[18,19] = 1/3\n",
    "T[19,8] = 1/4; T[19,18] = 1/4; T[19,20] = 1/4; T[19,27] = 1/4\n",
    "T[20,19] = 1/2; T[20,21] = 1/2\n",
    "T[21,9] = 1/2;  T[21,28] = 1/2\n",
    "T[22,12] = 1\n",
    "T[23,14] = 1/3; T[23,24] = 1/3; T[23,31] = 1/3\n",
    "T[24,15] = 1/3; T[24,23] = 1/3; T[24,32] = 1/3\n",
    "T[25,16] = 1/2; T[25,33] = 1/2\n",
    "T[26,17] = 1/2; T[26,36] = 1/2\n",
    "T[27,19] = 1\n",
    "T[28,21] = 1/2; T[28,39] = 1/2\n",
    "T[29,30] = 1\n",
    "T[30,29] = 1/2; T[30,31] = 1/2\n",
    "T[31,23] = 1/3; T[31,30] = 1/3; T[31,32] = 1/3\n",
    "T[32,24] = 1/2; T[32,31] = 1/2\n",
    "T[33,25] = 1/2; T[33,34] = 1/2\n",
    "T[34,33] = 1/2; T[34,35] = 1/2\n",
    "T[35,34] = 1/2; T[35,36] = 1/2\n",
    "T[36,26] = 1/3; T[36,35] = 1/3; T[36,37] = 1/3\n",
    "T[37,36] = 1\n",
    "T[38,39] = 1\n",
    "T[39,28] = 1/3; T[39,38] = 1/3; T[39,40] = 1/3\n",
    "T[40,39] = 1\n",
    "T[41,41] = 1 #por si empieza en 41 se queda en 41"
   ]
  },
  {
   "cell_type": "markdown",
   "metadata": {},
   "source": [
    "Also, define a dictionary that will contain all the possible states of the system. Remember that each state is a location that can be stored as a tuple. Pick the origin as the lower left corner of the map."
   ]
  },
  {
   "cell_type": "code",
   "execution_count": 220,
   "metadata": {},
   "outputs": [],
   "source": [
    "\"\"\"\n",
    "    Store the states of the system in a dictionary following this format:\n",
    "    S = {0: (0,0), 1: (1, 0), ..., 41: (15, 3)} \n",
    "\"\"\"\n",
    "\n",
    "S = {0:(0,0), 1:(1,0) , 2:(3,0), 3:(4,0), 4:(5,0), 5:(7,0), 6:(8,0), 7:(9,0), 8:(10,0), 9:(12,0), 10:(13,0), 11:(14,0), 12:(15,0),\n",
    "    13:(1,1), 14:(2,1), 15:(3,1), 16:(5,1), 17:(8,1), 18:(9,1), 19:(10,1), 20:(11,1), 21:(12,1), 22:(15,1), \n",
    "    23:(2,2), 24:(3,2), 25:(5,2), 26:(8,2), 27:(10,2), 28:(12,2),\n",
    "    29:(0,3), 30:(1,3), 31:(2,3), 32:(3,3), 33:(5,3), 34:(6,3), 35:(7,3), 36:(8,3), 37:(9,3), 38:(11,3), 39:(12,3), 40:(13,3), 41:(15,3)}\n"
   ]
  },
  {
   "cell_type": "markdown",
   "metadata": {},
   "source": [
    "## Sensor Model\n",
    "\n",
    "At this point you know that there are 16 possible measurements for $E_k$ at a given time $t_k$. For each measurement you will need to define a matrix that stores the probabilities of getting a reading $e_k$ given that the robot is at the location $s_i$:\n",
    "\n",
    "$$\n",
    "P(E_k=e_k|X_k=s_i)=O_{e_k,ii}=(1-\\epsilon)^{4-d_{~ik}}~\\epsilon^{~d_{~ik}}.\n",
    "$$\n",
    "\n",
    "In the following cell, write code for computing the matrices of the sensor model. Notice that you will have to define an error rate $\\epsilon$."
   ]
  },
  {
   "cell_type": "code",
   "execution_count": 221,
   "metadata": {},
   "outputs": [],
   "source": [
    "#Crear una matriz de 42x1 para la cantidad de vecinos de cada casilla\n",
    "sn = np.zeros((42,1))\n",
    "sn[0] = 1; sn[1:5] = 2; sn[5] = 1; sn[6:8] = 3; sn[8:14] = 2; sn[14:16] = 3; sn[16] = 2; sn[17:19] = 3; sn[19] = 4\n",
    "sn[20:22] = 2; sn[22] = 1; sn[23:25] = 3; sn[25:27] = 2; sn[27] = 1; sn[28] = 2; sn[29] = 1; sn[30] = 2; sn[31] = 3; sn[32:36] = 2\n",
    "sn[36] = 3; sn[37:39] = 1; sn[39] = 3; sn[40] = 1; sn[41] = 0\n",
    "#Pensandolo mejor creo que es mejor tener la una matriz con la lectura correcta de los sensores y despues calcular distancia hamming para \n",
    "#calcular la cantidad de bits diferentes y poner la probabilidad de cada lectura"
   ]
  },
  {
   "cell_type": "code",
   "execution_count": 222,
   "metadata": {},
   "outputs": [
    {
     "name": "stdout",
     "output_type": "stream",
     "text": [
      "4.0\n"
     ]
    }
   ],
   "source": [
    "#Crear una funcion para calcular la distancia de hamming, se uso la libreria scipy \n",
    "def distanciaHamming(a,b):\n",
    "    x = hamming(a,b)*len(a)\n",
    "    return x\n",
    "\n",
    "print(distanciaHamming([1,1,1,1],[0,0,0,0]))\n",
    "\n",
    "#Crear una funcion que devuelva una matriz de 42x42 con la probabilidad de cada estado en la diagonal principal\n",
    "def crearMatriz(matriz, array, error):\n",
    "    matrizProbabilidad = np.zeros((42,42))\n",
    "    for i in range (0,42):\n",
    "        matrizProbabilidad[i,i] = (1-error)**(4-distanciaHamming(matriz[i],array))*(error)**(distanciaHamming(matriz[i],array))\n",
    "    return matrizProbabilidad \n"
   ]
  },
  {
   "cell_type": "code",
   "execution_count": 223,
   "metadata": {},
   "outputs": [
    {
     "data": {
      "text/plain": [
       "'\\n    #Pruebas:\\n    x = np.zeros((42,4))\\n    for i in range (0,42):\\n        x[i] = [0,0,0,0]\\n    prueba = crearMatriz(x, [1,1,1,1], 0)\\n    print(prueba)\\n\\n    prueba2 = crearMatriz(x, [0,0,0,0], 0)\\n    print(prueba2)\\n'"
      ]
     },
     "execution_count": 223,
     "metadata": {},
     "output_type": "execute_result"
    }
   ],
   "source": [
    "\"\"\"\n",
    "    #Pruebas:\n",
    "    x = np.zeros((42,4))\n",
    "    for i in range (0,42):\n",
    "        x[i] = [0,0,0,0]\n",
    "    prueba = crearMatriz(x, [1,1,1,1], 0)\n",
    "    print(prueba)\n",
    "\n",
    "    prueba2 = crearMatriz(x, [0,0,0,0], 0)\n",
    "    print(prueba2)\n",
    "\"\"\""
   ]
  },
  {
   "cell_type": "code",
   "execution_count": 224,
   "metadata": {},
   "outputs": [],
   "source": [
    "#Crear matriz con la lectura correcta de los sensores, hacer esto con alguien mas aka Jesus para escribirlo\n",
    "sr = np.zeros((42,4))\n",
    "#sr[] = [E, S, W, N]\n",
    "sr[0] = [0,1,1,1]; sr[1] = [1,1,0,0]; sr[2] = [0,1,1,0]; sr[3] = [0,1,0,1]; sr[4] = [1,1,0,0]; sr[5] = [0,1,1,1]; sr[6] = [0,1,0,0]\n",
    "sr[7] = [0,1,0,0]; sr[8] = [1,1,0,0]; sr[9] = [0,1,1,0]; sr[10] = [0,1,0,1]; sr[11] = [0,1,0,1]; sr[12] = [1,1,0,0]; sr[13] = [0,0,1,1] \n",
    "sr[14] = [0,1,0,0]; sr[15] = [1,0,0,0]; sr[16] = [1,0,1,0]; sr[17] = [0,0,1,0]; sr[18] = [0,0,0,1]; sr[19] = [1,1,1,1]; sr[20] = [0,1,0,1]\n",
    "sr[21] = [1,0,0,0]; sr[22] = [1,0,1,1]; sr[23] = [0,0,1,0]; sr[24] = [1,0,0,0]; sr[25] = [1,0,1,0]; sr[26] = [1,0,1,0]; sr[27] = [1,0,1,1]\n",
    "sr[28] = [1,0,1,0]; sr[29] = [0,1,1,1]; sr[30] = [0,1,0,0]; sr[31] = [0,0,0,1]; sr[32] = [1,0,0,1]; sr[33] = [0,0,1,1]; sr[34] = [0,1,0,1]\n",
    "sr[35] = [0,1,0,1]; sr[36] = [0,0,0,1]; sr[37] = [1,1,0,0]; sr[38] = [0,1,1,1]; sr[39] = [0,0,0,1]; sr[40] = [1,1,0,1]; sr[41] = [1,1,1,1]"
   ]
  },
  {
   "cell_type": "code",
   "execution_count": 377,
   "metadata": {},
   "outputs": [
    {
     "name": "stdout",
     "output_type": "stream",
     "text": [
      "[35. 34. 33. 25. 16. 25. 33. 25. 16. 25. 16. 25. 33. 34. 35. 36. 35. 36.\n",
      " 35. 34. 35. 34. 33. 25. 16. 25. 33. 34. 35. 36. 26. 36. 26. 17. 18. 17.\n",
      " 18. 19. 18.  7.  6.  7. 18. 17. 26. 36. 35. 34. 33. 34. 35. 34. 33. 34.\n",
      " 35. 36. 35. 36. 35. 34. 33. 25. 33. 25. 33. 25. 16.  4.  3.  2. 15. 14.\n",
      " 15. 14. 13.  1. 13. 14. 15.  2. 15. 14. 13.  1.  0.  1. 13. 14. 15. 14.\n",
      " 13.  1. 13. 14. 15. 24. 23. 31. 32. 31.]\n",
      "[[0. 1. 0. 1.]\n",
      " [0. 1. 0. 1.]\n",
      " [0. 0. 1. 1.]\n",
      " [1. 0. 1. 0.]\n",
      " [1. 0. 1. 0.]\n",
      " [1. 0. 1. 0.]\n",
      " [0. 0. 1. 1.]\n",
      " [1. 0. 1. 0.]\n",
      " [1. 0. 1. 0.]\n",
      " [1. 0. 1. 0.]\n",
      " [1. 0. 1. 0.]\n",
      " [1. 0. 1. 0.]\n",
      " [0. 0. 1. 1.]\n",
      " [0. 1. 0. 1.]\n",
      " [0. 1. 0. 1.]\n",
      " [0. 0. 0. 1.]\n",
      " [0. 1. 0. 1.]\n",
      " [0. 0. 0. 1.]\n",
      " [0. 1. 0. 1.]\n",
      " [0. 1. 0. 1.]\n",
      " [0. 1. 0. 1.]\n",
      " [0. 1. 0. 1.]\n",
      " [0. 0. 1. 1.]\n",
      " [1. 0. 1. 0.]\n",
      " [1. 0. 1. 0.]\n",
      " [1. 0. 1. 0.]\n",
      " [0. 0. 1. 1.]\n",
      " [0. 1. 0. 1.]\n",
      " [0. 1. 0. 1.]\n",
      " [0. 0. 0. 1.]\n",
      " [1. 0. 1. 0.]\n",
      " [0. 0. 0. 1.]\n",
      " [1. 0. 1. 0.]\n",
      " [0. 0. 1. 0.]\n",
      " [0. 0. 0. 1.]\n",
      " [0. 0. 1. 0.]\n",
      " [0. 0. 0. 1.]\n",
      " [1. 1. 1. 1.]\n",
      " [0. 0. 0. 1.]\n",
      " [0. 1. 0. 0.]\n",
      " [0. 1. 0. 0.]\n",
      " [0. 1. 0. 0.]\n",
      " [0. 0. 0. 1.]\n",
      " [0. 0. 1. 0.]\n",
      " [1. 0. 1. 0.]\n",
      " [0. 0. 0. 1.]\n",
      " [0. 1. 0. 1.]\n",
      " [0. 1. 0. 1.]\n",
      " [0. 0. 1. 1.]\n",
      " [0. 1. 0. 1.]\n",
      " [0. 1. 0. 1.]\n",
      " [0. 1. 0. 1.]\n",
      " [0. 0. 1. 1.]\n",
      " [0. 1. 0. 1.]\n",
      " [0. 1. 0. 1.]\n",
      " [0. 0. 0. 1.]\n",
      " [0. 1. 0. 1.]\n",
      " [0. 0. 0. 1.]\n",
      " [0. 1. 0. 1.]\n",
      " [0. 1. 0. 1.]\n",
      " [0. 0. 1. 1.]\n",
      " [1. 0. 1. 0.]\n",
      " [0. 0. 1. 1.]\n",
      " [1. 0. 1. 0.]\n",
      " [0. 0. 1. 1.]\n",
      " [1. 0. 1. 0.]\n",
      " [1. 0. 1. 0.]\n",
      " [1. 1. 0. 0.]\n",
      " [0. 1. 0. 1.]\n",
      " [0. 1. 1. 0.]\n",
      " [1. 0. 0. 0.]\n",
      " [0. 1. 0. 0.]\n",
      " [1. 0. 0. 0.]\n",
      " [0. 1. 0. 0.]\n",
      " [0. 0. 1. 1.]\n",
      " [1. 1. 0. 0.]\n",
      " [0. 0. 1. 1.]\n",
      " [0. 1. 0. 0.]\n",
      " [1. 0. 0. 0.]\n",
      " [0. 1. 1. 0.]\n",
      " [1. 0. 0. 0.]\n",
      " [0. 1. 0. 0.]\n",
      " [0. 0. 1. 1.]\n",
      " [1. 1. 0. 0.]\n",
      " [0. 1. 1. 1.]\n",
      " [1. 1. 0. 0.]\n",
      " [0. 0. 1. 1.]\n",
      " [0. 1. 0. 0.]\n",
      " [1. 0. 0. 0.]\n",
      " [0. 1. 0. 0.]\n",
      " [0. 0. 1. 1.]\n",
      " [1. 1. 0. 0.]\n",
      " [0. 0. 1. 1.]\n",
      " [0. 1. 0. 0.]\n",
      " [1. 0. 0. 0.]\n",
      " [1. 0. 0. 0.]\n",
      " [0. 0. 1. 0.]\n",
      " [0. 0. 0. 1.]\n",
      " [1. 0. 0. 1.]\n",
      " [0. 0. 0. 1.]]\n",
      "------\n",
      "[[0. 1. 0. 1.]\n",
      " [1. 1. 0. 1.]\n",
      " [0. 0. 1. 1.]\n",
      " [0. 0. 1. 0.]\n",
      " [1. 0. 1. 1.]\n",
      " [1. 0. 1. 0.]\n",
      " [0. 0. 1. 1.]\n",
      " [1. 0. 1. 0.]\n",
      " [1. 0. 1. 0.]\n",
      " [1. 0. 1. 1.]\n",
      " [1. 1. 1. 0.]\n",
      " [1. 0. 1. 0.]\n",
      " [0. 0. 1. 1.]\n",
      " [0. 1. 0. 1.]\n",
      " [0. 1. 0. 1.]\n",
      " [0. 0. 0. 1.]\n",
      " [0. 1. 0. 1.]\n",
      " [0. 0. 0. 1.]\n",
      " [0. 1. 0. 1.]\n",
      " [0. 1. 0. 1.]\n",
      " [0. 1. 0. 1.]\n",
      " [0. 1. 0. 1.]\n",
      " [0. 0. 1. 1.]\n",
      " [1. 0. 1. 0.]\n",
      " [1. 0. 1. 0.]\n",
      " [1. 0. 1. 1.]\n",
      " [0. 0. 1. 1.]\n",
      " [0. 1. 0. 1.]\n",
      " [0. 1. 0. 1.]\n",
      " [0. 0. 0. 1.]\n",
      " [1. 0. 1. 0.]\n",
      " [0. 0. 0. 0.]\n",
      " [1. 0. 1. 0.]\n",
      " [0. 0. 1. 0.]\n",
      " [1. 0. 0. 1.]\n",
      " [0. 0. 1. 1.]\n",
      " [1. 0. 1. 1.]\n",
      " [0. 1. 1. 1.]\n",
      " [0. 0. 0. 1.]\n",
      " [0. 1. 0. 0.]\n",
      " [0. 1. 0. 0.]\n",
      " [0. 1. 1. 1.]\n",
      " [0. 0. 0. 1.]\n",
      " [0. 0. 1. 0.]\n",
      " [1. 1. 1. 1.]\n",
      " [0. 0. 0. 1.]\n",
      " [0. 1. 1. 1.]\n",
      " [0. 1. 0. 1.]\n",
      " [0. 0. 1. 1.]\n",
      " [0. 1. 0. 1.]\n",
      " [0. 0. 0. 1.]\n",
      " [1. 1. 0. 1.]\n",
      " [0. 0. 1. 0.]\n",
      " [0. 1. 0. 1.]\n",
      " [0. 1. 0. 1.]\n",
      " [0. 1. 0. 1.]\n",
      " [0. 1. 0. 1.]\n",
      " [0. 0. 0. 1.]\n",
      " [0. 1. 0. 0.]\n",
      " [0. 1. 0. 1.]\n",
      " [0. 0. 1. 1.]\n",
      " [1. 0. 1. 0.]\n",
      " [0. 0. 1. 1.]\n",
      " [1. 0. 1. 0.]\n",
      " [0. 0. 1. 0.]\n",
      " [1. 0. 1. 0.]\n",
      " [1. 0. 1. 0.]\n",
      " [1. 0. 0. 0.]\n",
      " [0. 1. 1. 1.]\n",
      " [1. 1. 1. 0.]\n",
      " [1. 0. 0. 0.]\n",
      " [0. 1. 0. 0.]\n",
      " [1. 0. 0. 1.]\n",
      " [0. 1. 0. 0.]\n",
      " [0. 0. 1. 1.]\n",
      " [1. 1. 0. 0.]\n",
      " [0. 0. 1. 1.]\n",
      " [0. 0. 0. 1.]\n",
      " [1. 0. 0. 1.]\n",
      " [0. 1. 1. 0.]\n",
      " [1. 0. 0. 0.]\n",
      " [0. 1. 0. 0.]\n",
      " [0. 0. 1. 1.]\n",
      " [1. 1. 1. 0.]\n",
      " [0. 1. 1. 1.]\n",
      " [1. 1. 0. 1.]\n",
      " [0. 0. 1. 1.]\n",
      " [0. 0. 0. 0.]\n",
      " [1. 0. 0. 0.]\n",
      " [1. 1. 0. 0.]\n",
      " [0. 0. 1. 1.]\n",
      " [0. 0. 0. 0.]\n",
      " [0. 0. 1. 1.]\n",
      " [1. 1. 0. 0.]\n",
      " [1. 0. 0. 0.]\n",
      " [1. 0. 0. 0.]\n",
      " [0. 0. 1. 1.]\n",
      " [0. 0. 0. 1.]\n",
      " [0. 0. 0. 1.]\n",
      " [0. 0. 0. 1.]]\n",
      "------\n",
      "[5.0, 13.0, 3.0, 2.0, 11.0, 10.0, 3.0, 10.0, 10.0, 11.0, 14.0, 10.0, 3.0, 5.0, 5.0, 1.0, 5.0, 1.0, 5.0, 5.0, 5.0, 5.0, 3.0, 10.0, 10.0, 11.0, 3.0, 5.0, 5.0, 1.0, 10.0, 0.0, 10.0, 2.0, 9.0, 3.0, 11.0, 7.0, 1.0, 4.0, 4.0, 7.0, 1.0, 2.0, 15.0, 1.0, 7.0, 5.0, 3.0, 5.0, 1.0, 13.0, 2.0, 5.0, 5.0, 5.0, 5.0, 1.0, 4.0, 5.0, 3.0, 10.0, 3.0, 10.0, 2.0, 10.0, 10.0, 8.0, 7.0, 14.0, 8.0, 4.0, 9.0, 4.0, 3.0, 12.0, 3.0, 1.0, 9.0, 6.0, 8.0, 4.0, 3.0, 14.0, 7.0, 13.0, 3.0, 0.0, 8.0, 12.0, 3.0, 0.0, 3.0, 12.0, 8.0, 8.0, 3.0, 1.0, 1.0, 1.0]\n"
     ]
    }
   ],
   "source": [
    "#Crear una funcion para simular un camino de manera aleatoria\n",
    "def SimularCamino(T,tamano):\n",
    "    camino = np.zeros((tamano))\n",
    "    camino[0] = np.random.randint(1,42)\n",
    "    for i in range (1,tamano):\n",
    "        camino[i] = np.random.choice(42,1,p=T[int (camino[i-1])])[0]\n",
    "    return camino\n",
    "\n",
    "#Crear una funcion para calcular la lectura de los sensores\n",
    "def LecturaCorrecta(sr, camino):\n",
    "    lectura = np.zeros((len(camino),4))\n",
    "    for i in range (0,len(camino)):\n",
    "        lectura[i] = sr[int (camino[i])]\n",
    "    return lectura\n",
    "\n",
    "#Crear funcion para ver si un sensor hace una lectura incorrecta\n",
    "def SimularError(lectura, error):\n",
    "    for item in lectura:\n",
    "        for i in range (0,4):\n",
    "            if np.random.rand() < error:\n",
    "                if item[i] == 0:\n",
    "                    item[i] = 1\n",
    "                else:\n",
    "                    item[i] = 0\n",
    "    return lectura\n",
    "\n",
    "#Crear funcion para pasar la lectura del sensor a binario\n",
    "def LecturaBinaria(lectura):\n",
    "    lista = []\n",
    "    for item in lectura:\n",
    "        numero = 0\n",
    "        for i in range (0,4):\n",
    "            numero = numero + item[i]*(2**(3-i))\n",
    "        lista.append(numero)\n",
    "    return lista\n",
    "\n",
    "#Pruebas:\n",
    "error = 0.1\n",
    "x = SimularCamino(T,100)\n",
    "print(x)\n",
    "y = LecturaCorrecta(sr,x)\n",
    "print(y)\n",
    "print('------')\n",
    "z = SimularError(y,error)\n",
    "print(z)\n",
    "print('------')\n",
    "a = LecturaBinaria(z)\n",
    "print(a)\n",
    "\n"
   ]
  },
  {
   "cell_type": "code",
   "execution_count": 226,
   "metadata": {},
   "outputs": [],
   "source": [
    "#Creamos las matrices de probabilidad para cada estado\n",
    "error = 0.1\n",
    "me0 = crearMatriz(sr, [0,0,0,0], error)\n",
    "#PRUEBA CON [0,1,1,1] Y WOLFRAMN Power[\\(40)1-0.1\\(41),\\(40)4-3\\(41)]*Power[\\(40)0.1\\(41),3] \n",
    "me1 = crearMatriz(sr, [0,0,0,1], error)\n",
    "me2 = crearMatriz(sr, [0,0,1,0], error)\n",
    "me3 = crearMatriz(sr, [0,0,1,1], error)\n",
    "me4 = crearMatriz(sr, [0,1,0,0], error)\n",
    "me5 = crearMatriz(sr, [0,1,0,1], error)\n",
    "me6 = crearMatriz(sr, [0,1,1,0], error)\n",
    "me7 = crearMatriz(sr, [0,1,1,1], error)\n",
    "me8 = crearMatriz(sr, [1,0,0,0], error)\n",
    "me9 = crearMatriz(sr, [1,0,0,1], error)\n",
    "me10 = crearMatriz(sr, [1,0,1,0], error)\n",
    "me11 = crearMatriz(sr, [1,0,1,1], error)\n",
    "me12 = crearMatriz(sr, [1,1,0,0], error)\n",
    "me13 = crearMatriz(sr, [1,1,0,1], error)\n",
    "me14 = crearMatriz(sr, [1,1,1,0], error)\n",
    "me15 = crearMatriz(sr, [1,1,1,1], error)\n"
   ]
  },
  {
   "cell_type": "markdown",
   "metadata": {},
   "source": [
    "Keep in mind that the readings can be understood as binary numbers of four digits: `0000`, `0001`,..., `1111`. Regarding the order of the binary measurements, use this convention: `ESWN`; that is, if the robot has obstacles in both the North and East directions, then an error-free measurement should be the binary number `1001`. For convenience, store the \"observation matrices\" in a dictionary. "
   ]
  },
  {
   "cell_type": "code",
   "execution_count": 227,
   "metadata": {
    "scrolled": true
   },
   "outputs": [],
   "source": [
    "\"\"\"\n",
    "    Store the states of the system in a dictionary following this format:\n",
    "    O = {0000: Matrix of measurement 0000, ..., 1111: Matrix of measurement 1111}\n",
    "\"\"\"\n",
    "\n",
    "O ={0: me0, 1: me1, 2:me2, 3:me3, 4:me4, 5:me5, 6:me6, 7:me7, 8:me8, 9:me9, 10:me10, 11:me11, 12:me12, 13:me13, 14:me14, 15:me15}"
   ]
  },
  {
   "cell_type": "markdown",
   "metadata": {},
   "source": [
    "## Filtering\n",
    "\n",
    "In this context, **filtering** can be used to get an idea of the robot's location given a set of measurements. As it was mentioned in class, this type of inference is the act of, given some evidence up to a time $t_k$, we want to infer what is the probability distribution of the state $X_k$: $P(X_k|E_{1:k}=e_{1:k})$. Provide the `filtering` function with some evidence, which is going to be a sequence of bynary numbers of four digits, and compute the probability distribution of the state of the system at time $t_k$. Notice that said distribution should be a vector of 42 components. Do not forget to take into account the stochastic nature of the measurement process."
   ]
  },
  {
   "cell_type": "code",
   "execution_count": 354,
   "metadata": {},
   "outputs": [],
   "source": [
    "def filtering(E, O, T, X0):\n",
    "    \n",
    "    forward = X0\n",
    "    \n",
    "    for evidence in E:\n",
    "        forward = O[evidence] @ T.T @ forward\n",
    "        forward = forward / forward.sum()\n",
    "        \n",
    "    return forward"
   ]
  },
  {
   "cell_type": "code",
   "execution_count": 378,
   "metadata": {
    "scrolled": true
   },
   "outputs": [
    {
     "name": "stdout",
     "output_type": "stream",
     "text": [
      "[5.0, 13.0, 3.0, 2.0, 11.0, 10.0, 3.0, 10.0, 10.0, 11.0, 14.0, 10.0, 3.0, 5.0, 5.0, 1.0, 5.0, 1.0, 5.0, 5.0, 5.0, 5.0, 3.0, 10.0, 10.0, 11.0, 3.0, 5.0, 5.0, 1.0, 10.0, 0.0, 10.0, 2.0, 9.0, 3.0, 11.0, 7.0, 1.0, 4.0, 4.0, 7.0, 1.0, 2.0, 15.0, 1.0, 7.0, 5.0, 3.0, 5.0, 1.0, 13.0, 2.0, 5.0, 5.0, 5.0, 5.0, 1.0, 4.0, 5.0, 3.0, 10.0, 3.0, 10.0, 2.0, 10.0, 10.0, 8.0, 7.0, 14.0, 8.0, 4.0, 9.0, 4.0, 3.0, 12.0, 3.0, 1.0, 9.0, 6.0, 8.0, 4.0, 3.0, 14.0, 7.0, 13.0, 3.0, 0.0, 8.0, 12.0, 3.0, 0.0, 3.0, 12.0, 8.0, 8.0, 3.0, 1.0, 1.0, 1.0]\n"
     ]
    }
   ],
   "source": [
    "#0->1->13->14 con un error en el ultimo sensor\n",
    "#E = [[0,1,1,1],[1,1,0,0],[0,0,1,1],[0,1,0,0]]\n",
    "E = a\n",
    "print(E)"
   ]
  },
  {
   "cell_type": "markdown",
   "metadata": {},
   "source": [
    "### Visualize\n",
    "\n",
    "Visualize your results using a heatmap. The `seaborn` library might be very useful for this purpose. In order to do this, write a function that receives the vector $X_k$ and returns a heatmap of a $4\\times16$ matrix in which each entry is the probability that the robot is occupying the location associated to said entry."
   ]
  },
  {
   "cell_type": "code",
   "execution_count": 379,
   "metadata": {},
   "outputs": [],
   "source": [
    "def view_heatmap(state):\n",
    "    \n",
    "    \"\"\"\n",
    "    The purpose of this function is to create a heatmap based on the state of the system at a given time. \n",
    "    The variable state is a vector of 42 components where each entry is the probability of finding the robot \n",
    "    at a certain location. The function does not have to return anything, it should just show the heatmap.\n",
    "    \"\"\"\n",
    "    sns.heatmap(state, cmap='vlag')"
   ]
  },
  {
   "cell_type": "code",
   "execution_count": 380,
   "metadata": {},
   "outputs": [
    {
     "data": {
      "image/png": "[encoded data removed]",
      "text/plain": [
       "<Figure size 640x480 with 2 Axes>"
      ]
     },
     "metadata": {},
     "output_type": "display_data"
    }
   ],
   "source": [
    "view_heatmap(filtering(E, O, T, X0))"
   ]
  },
  {
   "cell_type": "markdown",
   "metadata": {},
   "source": [
    "## Smoothing\n",
    "\n",
    "As for **smoothing**, we can use it to infer a past state given a set of measurements: that is, we wish to obtain $P(X_j|E_{1:k}=e_{1:k})$, $1\\leq j<k$. Supply some evidence and run the `smoothing` function. Check that what the functions returns makes sense."
   ]
  },
  {
   "cell_type": "code",
   "execution_count": 232,
   "metadata": {},
   "outputs": [],
   "source": [
    "def smoothing(E, O, T, X0, k):\n",
    "    \n",
    "    forward = filtering(E[:k], O, T, X0)\n",
    "    \n",
    "    backward = np.ones((T.shape[0],1))\n",
    "    \n",
    "    for evidence in E[-1:k-1:-1]:\n",
    "        backward = T @ O[evidence] @ backward\n",
    "    \n",
    "    smooth = forward * backward\n",
    "    smooth = smooth / smooth.sum()\n",
    "    \n",
    "    return smooth"
   ]
  },
  {
   "cell_type": "code",
   "execution_count": 381,
   "metadata": {},
   "outputs": [
    {
     "data": {
      "image/png": "[encoded data removed]",
      "text/plain": [
       "<Figure size 640x480 with 2 Axes>"
      ]
     },
     "metadata": {},
     "output_type": "display_data"
    }
   ],
   "source": [
    "E = a\n",
    "\n",
    "view_heatmap(smoothing(E, O, T, X0, 3))"
   ]
  },
  {
   "cell_type": "markdown",
   "metadata": {},
   "source": [
    "## Most Likely Sequence of States\n",
    "\n",
    "Finally, for obtaining the most likely sequence that produced the given evidence, we need to compute\n",
    "\n",
    "$$\n",
    "\\max_{x_{1:k}}P(x_{1:k}|E_{1:k}=e_{1:k}).\n",
    "$$\n",
    "\n",
    "As it was mentioned in class, the most likely sequence is the one that has the highest probability, which is obtained by the **Viterbi algorithm**. \n",
    "\n",
    "For this part of the assignment, pick a path in advance and record the set of measurements the robot would take along the road. Do not forget to include the possibility of getting some incorrect measurements in this process."
   ]
  },
  {
   "cell_type": "code",
   "execution_count": 234,
   "metadata": {},
   "outputs": [],
   "source": [
    "def most_likely_sequence(E, O, S, T, X0):\n",
    "    \n",
    "    sequences = np.zeros((T.shape[0], len(E)))\n",
    "    states = np.zeros((T.shape[0], len(E)))\n",
    "    ones = np.ones((T.shape[0], T.shape[0]))\n",
    "    sequences[:, 0] = (O[E[0]] @ X0).reshape((T.shape[0],))\n",
    "    message = sequences[:, 0].reshape((T.shape[0], 1))\n",
    "    \n",
    "    for i, evidence in enumerate(E[1:]):\n",
    "        message = (T @ O[evidence]) * (message * ones)\n",
    "        states[:, i+1] = np.argmax(message, axis=0).reshape((T.shape[0],))\n",
    "        message = np.max(message, axis=0).reshape((T.shape[0], 1))\n",
    "        sequences[:, i+1] = message.reshape((T.shape[0],))\n",
    "        \n",
    "    states = states.astype('int32')\n",
    "    s = np.argmax(sequences[:, -1], axis=0)\n",
    "    best_sequence = [S[s]]\n",
    "    \n",
    "    for i in range(len(E)-1, 0, -1):\n",
    "        s = states[s, i]\n",
    "        best_sequence.append(S[s])\n",
    "        \n",
    "    best_sequence = best_sequence[::-1] \n",
    "    \n",
    "    return best_sequence"
   ]
  },
  {
   "cell_type": "code",
   "execution_count": 382,
   "metadata": {},
   "outputs": [
    {
     "data": {
      "text/plain": [
       "[(7, 3),\n",
       " (6, 3),\n",
       " (5, 3),\n",
       " (5, 2),\n",
       " (5, 1),\n",
       " (5, 2),\n",
       " (5, 3),\n",
       " (5, 2),\n",
       " (5, 1),\n",
       " (5, 2),\n",
       " (5, 1),\n",
       " (5, 2),\n",
       " (5, 3),\n",
       " (6, 3),\n",
       " (7, 3),\n",
       " (8, 3),\n",
       " (7, 3),\n",
       " (8, 3),\n",
       " (7, 3),\n",
       " (6, 3),\n",
       " (7, 3),\n",
       " (6, 3),\n",
       " (5, 3),\n",
       " (5, 2),\n",
       " (5, 1),\n",
       " (5, 2),\n",
       " (5, 3),\n",
       " (6, 3),\n",
       " (7, 3),\n",
       " (8, 3),\n",
       " (8, 2),\n",
       " (8, 1),\n",
       " (8, 2),\n",
       " (8, 1),\n",
       " (9, 1),\n",
       " (10, 1),\n",
       " (10, 2),\n",
       " (10, 1),\n",
       " (9, 1),\n",
       " (9, 0),\n",
       " (8, 0),\n",
       " (7, 0),\n",
       " (8, 0),\n",
       " (8, 1),\n",
       " (8, 2),\n",
       " (8, 3),\n",
       " (7, 3),\n",
       " (6, 3),\n",
       " (5, 3),\n",
       " (6, 3),\n",
       " (5, 3),\n",
       " (6, 3),\n",
       " (5, 3),\n",
       " (6, 3),\n",
       " (7, 3),\n",
       " (6, 3),\n",
       " (7, 3),\n",
       " (8, 3),\n",
       " (7, 3),\n",
       " (6, 3),\n",
       " (5, 3),\n",
       " (5, 2),\n",
       " (5, 3),\n",
       " (5, 2),\n",
       " (5, 1),\n",
       " (5, 2),\n",
       " (5, 1),\n",
       " (5, 0),\n",
       " (4, 0),\n",
       " (3, 0),\n",
       " (3, 1),\n",
       " (2, 1),\n",
       " (3, 1),\n",
       " (2, 1),\n",
       " (1, 1),\n",
       " (1, 0),\n",
       " (1, 1),\n",
       " (2, 1),\n",
       " (3, 1),\n",
       " (3, 0),\n",
       " (3, 1),\n",
       " (2, 1),\n",
       " (1, 1),\n",
       " (1, 0),\n",
       " (0, 0),\n",
       " (1, 0),\n",
       " (1, 1),\n",
       " (2, 1),\n",
       " (3, 1),\n",
       " (2, 1),\n",
       " (1, 1),\n",
       " (2, 1),\n",
       " (1, 1),\n",
       " (2, 1),\n",
       " (3, 1),\n",
       " (3, 2),\n",
       " (2, 2),\n",
       " (2, 3),\n",
       " (3, 3),\n",
       " (2, 3)]"
      ]
     },
     "execution_count": 382,
     "metadata": {},
     "output_type": "execute_result"
    }
   ],
   "source": [
    "E = a\n",
    "\n",
    "most_likely_sequence(E, O, S, T, X0)"
   ]
  },
  {
   "cell_type": "markdown",
   "metadata": {},
   "source": [
    "For visualization purposes, define a vector of 42 components in which the entry associated to a state that belongs to the most likely sequence is set to one, otherwise, set the entry to zero. Call the `view_heatmap` function, which should receive the vector that you just defined as an input, and obtain the corresponding heatmap. The shown path should be the sequence of locations that the robot occupied."
   ]
  },
  {
   "cell_type": "code",
   "execution_count": 236,
   "metadata": {},
   "outputs": [],
   "source": [
    "\"\"\"\n",
    "You will have to write some code here for computing your vector of zeros and ones. Store this information\n",
    "as \"vector\n",
    "\"\"\"\n",
    "#NOTA: NO CREO QUE ESTO SE VEA BIEN PUES SOLO MENCIONA SI PASO POR ALLI, NO CUANTAAS VECES NI CUANDO SE PUEDE CAMBIAR EN UN FUTURO\n",
    "SS = {v: k for k, v in S.items()}\n",
    "def visualizarSecuencia(secuencia, SS):\n",
    "    vector = np.zeros((42,1))\n",
    "    for state in secuencia:\n",
    "        vector[SS[state]] = 1\n",
    "    \n",
    "    return vector\n",
    "    "
   ]
  },
  {
   "cell_type": "code",
   "execution_count": 237,
   "metadata": {},
   "outputs": [
    {
     "data": {
      "image/png": "[encoded data removed]",
      "text/plain": [
       "<Figure size 640x480 with 2 Axes>"
      ]
     },
     "metadata": {},
     "output_type": "display_data"
    }
   ],
   "source": [
    "vector = visualizarSecuencia(most_likely_sequence(E, O, S, T, X0), SS)\n",
    "view_heatmap(vector)"
   ]
  }
 ],
 "metadata": {
  "hide_input": false,
  "kernelspec": {
   "display_name": "Python 3 (ipykernel)",
   "language": "python",
   "name": "python3"
  },
  "language_info": {
   "codemirror_mode": {
    "name": "ipython",
    "version": 3
   },
   "file_extension": ".py",
   "mimetype": "text/x-python",
   "name": "python",
   "nbconvert_exporter": "python",
   "pygments_lexer": "ipython3",
   "version": "3.10.8"
  }
 },
 "nbformat": 4,
 "nbformat_minor": 2
}
